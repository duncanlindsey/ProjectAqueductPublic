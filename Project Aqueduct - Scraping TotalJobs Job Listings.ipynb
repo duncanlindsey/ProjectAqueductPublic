{
 "cells": [
  {
   "cell_type": "markdown",
   "metadata": {},
   "source": [
    "## 1. Preamble\n",
    "Import source code and packages"
   ]
  },
  {
   "cell_type": "code",
   "execution_count": 1,
   "metadata": {},
   "outputs": [],
   "source": [
    "import requests\n",
    "import re\n",
    "import string\n",
    "import json\n",
    "import numpy as np\n",
    "import pandas as pd\n",
    "from bs4 import BeautifulSoup\n",
    "from pprint import pprint\n",
    "\n",
    "def collectSoup(url):\n",
    "    ua = {'User-Agent':'Mozilla/5.0 (Windows NT 10.0; Win64; x64) AppleWebKit/537.36 (KHTML, like Gecko) Chrome/72.0.3626.109 Safari/537.36'}\n",
    "    page = requests.get(url,headers = ua)\n",
    "    soup = BeautifulSoup(page.text, 'html.parser')\n",
    "    return soup\n",
    "\n",
    "def getJobData(url):\n",
    "    \n",
    "    soup = collectSoup(url)\n",
    "    \n",
    "    schema = soup.find(\"script\",id=\"jobPostingSchema\") #Retrieve the job listing schema\n",
    "    jsonData = json.loads(schema.string) #Convert to JSON Object.\n",
    "    \n",
    "    relatedjobtags = soup.find(class_=\"relatedJobsList\").find_all(\"a\") #Retrieve the list of related job searches\n",
    "    relatedjobs = [(i.string.replace(' jobs',''),i['href']) for i in relatedjobtags if not('in-' in i['href']) and not (i.string is None)] #Retrive pairs of (job name[minus 'jobs'], suburl)\n",
    "    jsonData['relatedjobs'] = relatedjobs #Add related jobs to the JSON object\n",
    "    \n",
    "    return jsonData\n"
   ]
  },
  {
   "cell_type": "code",
   "execution_count": 2,
   "metadata": {},
   "outputs": [],
   "source": [
    "check = getJobData('https://www.totaljobs.com/job/accounting-technician/trial-balance-consulting-job85291461')"
   ]
  },
  {
   "cell_type": "code",
   "execution_count": 3,
   "metadata": {},
   "outputs": [],
   "source": [
    "mainurl = 'https://www.totaljobs.com/'\n",
    "\n",
    "main = collectSoup(mainurl)\n",
    "\n",
    "catlistfull = main.find(class_='tab-content sector-tab-content tab-pane fade active in').find_all('a')\n",
    "\n",
    "catlist = [(cat['href'],cat.string) for cat in catlistfull]\n"
   ]
  },
  {
   "cell_type": "code",
   "execution_count": 4,
   "metadata": {
    "scrolled": false
   },
   "outputs": [
    {
     "name": "stdout",
     "output_type": "stream",
     "text": [
      "['https://www.totaljobs.com/jobs/data-analyst', 'https://www.totaljobs.com/jobs/data-analyst?page=2', 'https://www.totaljobs.com/jobs/data-analyst?page=3', 'https://www.totaljobs.com/jobs/data-analyst?page=4', 'https://www.totaljobs.com/jobs/data-analyst?page=5']\n"
     ]
    }
   ],
   "source": [
    "#caturl1 = mainurl+catlist[1][0][1:]\n",
    "\n",
    "mainurl = 'https://www.totaljobs.com/jobs/data-analyst'\n",
    "suburls = ['?page='+str(n) for n in list(range(2,6))]\n",
    "suburls = ['',*suburls]\n",
    "urls = [mainurl+suburl for suburl in suburls]\n",
    "\n",
    "print(urls)"
   ]
  },
  {
   "cell_type": "code",
   "execution_count": 5,
   "metadata": {},
   "outputs": [],
   "source": [
    "soups = [collectSoup(url) for url in urls]"
   ]
  },
  {
   "cell_type": "code",
   "execution_count": 6,
   "metadata": {},
   "outputs": [
    {
     "name": "stdout",
     "output_type": "stream",
     "text": [
      "100\n"
     ]
    }
   ],
   "source": [
    "joburlslist = []\n",
    "\n",
    "for soup in soups:\n",
    "    \n",
    "    jobsonpage = soup.find_all(class_=\"job-title\")\n",
    "    joburls = [job.find(\"a\")['href'] for job in jobsonpage]\n",
    "    joburlslist = [*joburlslist, *joburls]\n",
    "\n",
    "pprint(len(joburlslist))"
   ]
  },
  {
   "cell_type": "code",
   "execution_count": 7,
   "metadata": {},
   "outputs": [],
   "source": [
    "jobdata = [getJobData(url) for url in joburlslist]"
   ]
  },
  {
   "cell_type": "code",
   "execution_count": 8,
   "metadata": {},
   "outputs": [
    {
     "name": "stdout",
     "output_type": "stream",
     "text": [
      "['Data Analyst', 'Data Analyst', 'Data Analyst, Agile, News Media', 'Energy Data Analyst', 'Data Analyst', 'Data Analyst - SAS', 'Data Analyst - SAS', 'Data Analyst (SQL / T-SQL) - Kensington', 'Data Analyst (Excel) - Bristol - New Role - Exclusive', 'Data Analyst', 'Data Analyst', 'Trade / Data Analyst', 'Data Analyst', 'Data Analyst', 'Data Analyst /Business Analyst (Reference Data) - Banking background', 'Data Analyst - ETL - London - up to £60,000', 'Data Analyst', 'Data Analyst - ETL - London - up to £60,000', 'Data Analyst', 'Data Analyst', 'Data Analyst - SQL - SSRS / SSIS - OLAP - BI - Azure - AWS', 'Data Analyst', 'Data Analyst', 'Data Analyst', 'Data Analyst', 'Data Analyst', 'Data Analyst', 'Data Analyst', 'Data Analyst', 'Data Analysts', 'Data Analyst - Marketing', 'Data Analyst', 'Data Analyst', 'Administrator/ Data Analyst', 'Data Analyst', 'Data Analyst', 'Data Analyst - Fundraising', 'Data Analyst', 'Data Analyst', 'Data Analyst', 'Data Analyst', 'Data Analyst', 'Data Analyst', 'Data Analyst', 'Data Analyst', 'Data Analyst', 'Data Analyst', 'Data Analyst', 'Data Analyst', 'Data Analyst', 'Administrator/ Data Analyst', 'Data Analyst', 'Data Analyst', 'Data Analyst', 'Data Analyst - Salesforce - Data Migration', 'Data Analyst / Data Developer / SQL / SSIS / ETL', 'Data Analyst / Developer - SQL / Redshift / Hadoop / SSRS', 'Data Analyst', 'Data Analyst', 'Data Analyst Apprentice', 'Data Analyst', 'Fixed Income Data Analyst SQL R Python Trading Finance London', 'Data Analyst', 'Fixed Income Data Analyst SQL R Python Trading Finance London', 'Fixed Income Data Analyst SQL R Python Trading Finance London', 'Data Analyst', 'Data Analyst', 'DV Data Analyst', 'Data Analyst and Marketing Manager', 'Data Analyst x 2', 'Data Analyst', 'Data Analyst x 2', 'Data Analyst', 'Data Analyst', 'Finance Data Analyst', 'Data Analyst and Marketing Manager', 'Commercial Data Analyst', 'Data Analyst', 'Data Analyst', 'Data Analyst', 'Data Analyst', 'Data Analyst - CRM / SQL', 'Data Analyst', 'Finance Data Analyst', 'Data Analyst', 'Data Analyst', 'Data Analyst', 'Finance Data Analyst', 'Data Analyst', 'Data Analyst', 'Data Analyst', 'Data Analyst', 'Data Analyst', 'Finance Data Analyst', 'Data Analyst', 'Data Analyst', 'Data Analyst', 'Data Analyst', 'Data Analyst', 'Data Analyst']\n"
     ]
    }
   ],
   "source": [
    "jobtitles = [job['title'] for job in jobdata]\n",
    "\n",
    "print(jobtitles)"
   ]
  },
  {
   "cell_type": "markdown",
   "metadata": {},
   "source": [
    "## Saving Data\n",
    "Connecting to a MongoDB database on learn-v1 (Orowa's server)"
   ]
  },
  {
   "cell_type": "code",
   "execution_count": 9,
   "metadata": {},
   "outputs": [],
   "source": [
    "from pymongo import MongoClient\n",
    "client = MongoClient('209.97.135.177:27017')\n",
    "db = client.jobs"
   ]
  },
  {
   "cell_type": "code",
   "execution_count": null,
   "metadata": {},
   "outputs": [],
   "source": [
    "result = db.jobs.insert_many(jobdata)\n",
    "pprint (result.inserted_ids)"
   ]
  },
  {
   "cell_type": "code",
   "execution_count": 10,
   "metadata": {},
   "outputs": [
    {
     "name": "stdout",
     "output_type": "stream",
     "text": [
      "{'@context': 'http://schema.org',\n",
      " '@type': 'JobPosting',\n",
      " '_id': ObjectId('5c70dc6f5e95262ab42c3fdf'),\n",
      " 'datePosted': '2019-02-09T11:00+00:00',\n",
      " 'description': '<p><strong>Finance Data Analyst <br></strong><strong>London '\n",
      "                '<br></strong><strong>£40,000 + Benefits </strong></p><p>A '\n",
      "                'successful Media company are looking for a Finance Data '\n",
      "                'Analyst to join them in the heart of London. This is a tech '\n",
      "                'savvy business, with an excellent reputation, now looking to '\n",
      "                'add to their team. You will be reporting into the Head of '\n",
      "                'Finance gathering requirements and delivering insight '\n",
      "                'solutions on client projects, using a mixture of SQL and '\n",
      "                'Python (training provided). You will be tasked with '\n",
      "                'identifying opportunities for deeper analysis, producing '\n",
      "                'reports and insight and really using data to answer business '\n",
      "                'finance questions. There are excellent development '\n",
      "                'opportunities available within a fastpaced team. If you are '\n",
      "                'passionate about data with excellent communication skills '\n",
      "                'this could be a fantastic opportunity for you! '\n",
      "                '</p><p><strong>THE ROLE - Finance Data Analyst</strong> '\n",
      "                '<br>As Finance Data Analyst, your responsibilities will '\n",
      "                'include:</p><ul><li>Liaising with both technical and '\n",
      "                'non-technical stakeholders from C-Level down to gather '\n",
      "                'requirements and deliver Insight and Reporting solutions on '\n",
      "                'financial datasets</li><li>Process, analyse and manipulate '\n",
      "                'data sets using SQL and Python</li><li>Working on several '\n",
      "                'projects simultaneously </li><li>Generating engaging reports '\n",
      "                'in SQL, SSRS and Excel and actionable insight where needed '\n",
      "                '</li></ul><p><strong>You will need: '\n",
      "                '</strong></p><ul><li>Proven SQL experience in a working '\n",
      "                'environment </li><li>Degree in relevant '\n",
      "                'subject</li></ul><p><strong>HOW TO APPLY</strong><br>In order '\n",
      "                'to apply for this position, please do so via this site. '\n",
      "                '<br>For information on this role or other roles in the BI '\n",
      "                'Analytic market please get in touch with Sandra Namatovu '\n",
      "                'at</p><p><strong>KEYWORDS</strong></p><p> Reporting, Insight, '\n",
      "                'Data, BI, Analytics, Analyst, BI, Business Intelligence, '\n",
      "                'Data, Analyse, Programming, Data, Strategy, Tableau, SQL, '\n",
      "                'Python</p>',\n",
      " 'employmentType': 'FULL_TIME',\n",
      " 'hiringOrganization': {'@type': 'Organization',\n",
      "                        'logo': 'https://www.totaljobs.com/CompanyLogos/7f4e19c6766e4a41a8244fb3b8e83008.png',\n",
      "                        'name': 'Harnham Search and Selection Ltd',\n",
      "                        'url': 'https://www.totaljobs.com/jobs-at/harnham-search-and-selection/jobs'},\n",
      " 'industry': 'Finance',\n",
      " 'jobLocation': {'@type': 'Place',\n",
      "                 'address': {'@type': 'PostalAddress',\n",
      "                             'addressCountry': 'GB',\n",
      "                             'addressLocality': '',\n",
      "                             'addressRegion': 'London',\n",
      "                             'postalCode': ''},\n",
      "                 'geo': {'@type': 'GeoCoordinates',\n",
      "                         'latitude': '51.50014',\n",
      "                         'longitude': '-0.12623'}},\n",
      " 'relatedjobs': [['Finance Analyst', '/jobs/finance-analyst'],\n",
      "                 ['Data Science', '/jobs/data-science'],\n",
      "                 ['Finance', '/jobs/finance'],\n",
      "                 ['Finance Assistant', '/jobs/finance-assistant'],\n",
      "                 ['Analyst', '/jobs/analyst'],\n",
      "                 ['Management Accountant', '/jobs/management-accountant'],\n",
      "                 ['Accounts Assistant', '/jobs/accounts-assistant']],\n",
      " 'title': 'Finance Data Analyst',\n",
      " 'url': 'https://www.totaljobs.com/job/finance-analyst/harnham-search-and-selection-ltd-job85245880',\n",
      " 'validThrough': '2019-03-23T11:00+00:00'}\n"
     ]
    }
   ],
   "source": [
    "query = db.jobs.find_one({'@type': 'JobPosting'})\n",
    "pprint (query)"
   ]
  },
  {
   "cell_type": "code",
   "execution_count": null,
   "metadata": {},
   "outputs": [],
   "source": [
    "#db.jobs.drop()"
   ]
  }
 ],
 "metadata": {
  "kernelspec": {
   "display_name": "Python 3",
   "language": "python",
   "name": "python3"
  },
  "language_info": {
   "codemirror_mode": {
    "name": "ipython",
    "version": 3
   },
   "file_extension": ".py",
   "mimetype": "text/x-python",
   "name": "python",
   "nbconvert_exporter": "python",
   "pygments_lexer": "ipython3",
   "version": "3.7.1"
  }
 },
 "nbformat": 4,
 "nbformat_minor": 2
}
